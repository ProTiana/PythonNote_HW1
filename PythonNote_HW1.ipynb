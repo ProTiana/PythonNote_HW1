{
 "cells": [
  {
   "cell_type": "markdown",
   "id": "91649bae",
   "metadata": {},
   "source": [
    "# Задание2\n",
    "## 2.1\n",
    "*На складе лежат разные фрукты в разном количестве.Нужно написать функцию, которая на вход принимает любое*\n",
    "*количество названий фруктов и их количество,а возвращает общее количество фруктов на складе,*\n"
   ]
  },
  {
   "cell_type": "code",
   "execution_count": 27,
   "id": "35a41d4d",
   "metadata": {},
   "outputs": [
    {
     "data": {
      "text/plain": [
       "{'bananas': 20, 'apples': 30, 'pears': 10}"
      ]
     },
     "execution_count": 27,
     "metadata": {},
     "output_type": "execute_result"
    }
   ],
   "source": [
    "fruits1={'bananas':20, 'apples':30, 'pears': 10}\n",
    "fruits1\n"
   ]
  },
  {
   "cell_type": "code",
   "execution_count": 28,
   "id": "b4d025c4",
   "metadata": {},
   "outputs": [
    {
     "name": "stdout",
     "output_type": "stream",
     "text": [
      "60\n"
     ]
    }
   ],
   "source": [
    "if __name__ == '__main__':\n",
    "    total=sum(fruits1.values())\n",
    "    print(total)"
   ]
  },
  {
   "cell_type": "code",
   "execution_count": 49,
   "id": "460ccdd0",
   "metadata": {},
   "outputs": [],
   "source": [
    "def total_fruits(dict_):\n",
    "    total=0\n",
    "    for items in dict_.values():\n",
    "        total +=items\n",
    "    return total"
   ]
  },
  {
   "cell_type": "code",
   "execution_count": 55,
   "id": "1a63ab19",
   "metadata": {},
   "outputs": [
    {
     "data": {
      "text/plain": [
       "60"
      ]
     },
     "execution_count": 55,
     "metadata": {},
     "output_type": "execute_result"
    }
   ],
   "source": [
    "total_fruits(fruits1)"
   ]
  },
  {
   "cell_type": "code",
   "execution_count": 53,
   "id": "5f520400",
   "metadata": {},
   "outputs": [],
   "source": [
    "def total_sum(x):\n",
    "    total=sum(x.values())\n",
    "    return total"
   ]
  },
  {
   "cell_type": "code",
   "execution_count": 56,
   "id": "7db34efa",
   "metadata": {},
   "outputs": [
    {
     "ename": "AttributeError",
     "evalue": "'dict_values' object has no attribute 'values'",
     "output_type": "error",
     "traceback": [
      "\u001b[0;31m---------------------------------------------------------------------------\u001b[0m",
      "\u001b[0;31mAttributeError\u001b[0m                            Traceback (most recent call last)",
      "\u001b[0;32m/var/folders/4j/_7c3yk9x3gg_lsbvzrkk4zcm0000gn/T/ipykernel_28104/604668397.py\u001b[0m in \u001b[0;36m<module>\u001b[0;34m\u001b[0m\n\u001b[0;32m----> 1\u001b[0;31m \u001b[0mtotal_sum\u001b[0m\u001b[0;34m(\u001b[0m\u001b[0mfruits1\u001b[0m\u001b[0;34m)\u001b[0m\u001b[0;34m\u001b[0m\u001b[0;34m\u001b[0m\u001b[0m\n\u001b[0m",
      "\u001b[0;32m/var/folders/4j/_7c3yk9x3gg_lsbvzrkk4zcm0000gn/T/ipykernel_28104/1894577264.py\u001b[0m in \u001b[0;36mtotal_sum\u001b[0;34m(x)\u001b[0m\n\u001b[1;32m      1\u001b[0m \u001b[0;32mdef\u001b[0m \u001b[0mtotal_sum\u001b[0m\u001b[0;34m(\u001b[0m\u001b[0mx\u001b[0m\u001b[0;34m)\u001b[0m\u001b[0;34m:\u001b[0m\u001b[0;34m\u001b[0m\u001b[0;34m\u001b[0m\u001b[0m\n\u001b[0;32m----> 2\u001b[0;31m     \u001b[0mtotal\u001b[0m\u001b[0;34m=\u001b[0m\u001b[0msum\u001b[0m\u001b[0;34m(\u001b[0m\u001b[0mx\u001b[0m\u001b[0;34m.\u001b[0m\u001b[0mvalues\u001b[0m\u001b[0;34m(\u001b[0m\u001b[0;34m)\u001b[0m\u001b[0;34m)\u001b[0m\u001b[0;34m\u001b[0m\u001b[0;34m\u001b[0m\u001b[0m\n\u001b[0m\u001b[1;32m      3\u001b[0m     \u001b[0;32mreturn\u001b[0m \u001b[0mtotal\u001b[0m\u001b[0;34m\u001b[0m\u001b[0;34m\u001b[0m\u001b[0m\n",
      "\u001b[0;32m/var/folders/4j/_7c3yk9x3gg_lsbvzrkk4zcm0000gn/T/ipykernel_28104/3872011708.py\u001b[0m in \u001b[0;36msum\u001b[0;34m(x)\u001b[0m\n\u001b[1;32m      1\u001b[0m \u001b[0;32mdef\u001b[0m \u001b[0msum\u001b[0m\u001b[0;34m(\u001b[0m\u001b[0mx\u001b[0m\u001b[0;34m)\u001b[0m\u001b[0;34m:\u001b[0m\u001b[0;34m\u001b[0m\u001b[0;34m\u001b[0m\u001b[0m\n\u001b[0;32m----> 2\u001b[0;31m     \u001b[0mtotal\u001b[0m\u001b[0;34m=\u001b[0m\u001b[0msum\u001b[0m\u001b[0;34m(\u001b[0m\u001b[0mx\u001b[0m\u001b[0;34m.\u001b[0m\u001b[0mvalues\u001b[0m\u001b[0;34m(\u001b[0m\u001b[0;34m)\u001b[0m\u001b[0;34m)\u001b[0m\u001b[0;34m\u001b[0m\u001b[0;34m\u001b[0m\u001b[0m\n\u001b[0m\u001b[1;32m      3\u001b[0m     \u001b[0;32mreturn\u001b[0m \u001b[0mtotal\u001b[0m\u001b[0;34m\u001b[0m\u001b[0;34m\u001b[0m\u001b[0m\n",
      "\u001b[0;31mAttributeError\u001b[0m: 'dict_values' object has no attribute 'values'"
     ]
    }
   ],
   "source": [
    "total_sum(fruits1)"
   ]
  },
  {
   "cell_type": "code",
   "execution_count": 51,
   "id": "db919359",
   "metadata": {},
   "outputs": [
    {
     "name": "stdout",
     "output_type": "stream",
     "text": [
      "<class 'dict_values'>\n"
     ]
    }
   ],
   "source": [
    "print(type(fruits1.values()))"
   ]
  },
  {
   "cell_type": "markdown",
   "id": "0800c9d7",
   "metadata": {},
   "source": [
    "## 2.2\n",
    "\n",
    "*На складе лежат разные фрукты в разном количестве.*\n",
    "*Нужно написать функцию, которая на вход принимает любое количество названий фруктов и их количество,*\n",
    "*а возвращает общее количество фруктов на складе, при помощи использования kwargs*"
   ]
  },
  {
   "cell_type": "code",
   "execution_count": 70,
   "id": "9ab3d5ef",
   "metadata": {},
   "outputs": [],
   "source": [
    "def sum_fruits2(**kwargs):\n",
    "    print(type(kwargs))\n",
    "    print()\n",
    "    total=0\n",
    "    for items in kwargs:\n",
    "        total+=items\n",
    "    return total "
   ]
  },
  {
   "cell_type": "code",
   "execution_count": 71,
   "id": "689636ee",
   "metadata": {},
   "outputs": [
    {
     "name": "stdout",
     "output_type": "stream",
     "text": [
      "<class 'dict'>\n",
      "\n"
     ]
    },
    {
     "ename": "TypeError",
     "evalue": "unsupported operand type(s) for +=: 'int' and 'str'",
     "output_type": "error",
     "traceback": [
      "\u001b[0;31m---------------------------------------------------------------------------\u001b[0m",
      "\u001b[0;31mTypeError\u001b[0m                                 Traceback (most recent call last)",
      "\u001b[0;32m/var/folders/4j/_7c3yk9x3gg_lsbvzrkk4zcm0000gn/T/ipykernel_28104/3372139313.py\u001b[0m in \u001b[0;36m<module>\u001b[0;34m\u001b[0m\n\u001b[0;32m----> 1\u001b[0;31m \u001b[0msum_fruits2\u001b[0m\u001b[0;34m(\u001b[0m\u001b[0;34m**\u001b[0m\u001b[0mfruits1\u001b[0m\u001b[0;34m)\u001b[0m\u001b[0;34m\u001b[0m\u001b[0;34m\u001b[0m\u001b[0m\n\u001b[0m",
      "\u001b[0;32m/var/folders/4j/_7c3yk9x3gg_lsbvzrkk4zcm0000gn/T/ipykernel_28104/2631088057.py\u001b[0m in \u001b[0;36msum_fruits2\u001b[0;34m(**kwargs)\u001b[0m\n\u001b[1;32m      4\u001b[0m     \u001b[0mtotal\u001b[0m\u001b[0;34m=\u001b[0m\u001b[0;36m0\u001b[0m\u001b[0;34m\u001b[0m\u001b[0;34m\u001b[0m\u001b[0m\n\u001b[1;32m      5\u001b[0m     \u001b[0;32mfor\u001b[0m \u001b[0mitems\u001b[0m \u001b[0;32min\u001b[0m \u001b[0mkwargs\u001b[0m\u001b[0;34m:\u001b[0m\u001b[0;34m\u001b[0m\u001b[0;34m\u001b[0m\u001b[0m\n\u001b[0;32m----> 6\u001b[0;31m         \u001b[0mtotal\u001b[0m\u001b[0;34m+=\u001b[0m\u001b[0mitems\u001b[0m\u001b[0;34m\u001b[0m\u001b[0;34m\u001b[0m\u001b[0m\n\u001b[0m\u001b[1;32m      7\u001b[0m     \u001b[0;32mreturn\u001b[0m \u001b[0mtotal\u001b[0m\u001b[0;34m\u001b[0m\u001b[0;34m\u001b[0m\u001b[0m\n",
      "\u001b[0;31mTypeError\u001b[0m: unsupported operand type(s) for +=: 'int' and 'str'"
     ]
    }
   ],
   "source": [
    "sum_fruits2(**fruits1)"
   ]
  },
  {
   "cell_type": "code",
   "execution_count": 63,
   "id": "29a91839",
   "metadata": {},
   "outputs": [
    {
     "name": "stdout",
     "output_type": "stream",
     "text": [
      "shopkeeper : Michael Palin\n",
      "client : John Cleese\n",
      "sketch : Cheese Shop Sketch\n"
     ]
    }
   ],
   "source": [
    "def shop(**keywords):\n",
    "    for kw in keywords:\n",
    "        print(kw, \":\", keywords[kw])\n",
    "\n",
    "kword = {\"shopkeeper\":\"Michael Palin\",\n",
    "        \"client\":\"John Cleese\",\n",
    "        \"sketch\":\"Cheese Shop Sketch\"}\n",
    "\n",
    "shop(**kword)"
   ]
  },
  {
   "cell_type": "code",
   "execution_count": 83,
   "id": "1a383774",
   "metadata": {},
   "outputs": [],
   "source": [
    "def print_fruits2(**kwargs):\n",
    "    for item in kwargs.item():\n",
    "        print(item, kwargs[item])"
   ]
  },
  {
   "cell_type": "code",
   "execution_count": 84,
   "id": "d31a794a",
   "metadata": {},
   "outputs": [
    {
     "ename": "TypeError",
     "evalue": "'shopkeeper' is an invalid keyword argument for print()",
     "output_type": "error",
     "traceback": [
      "\u001b[0;31m---------------------------------------------------------------------------\u001b[0m",
      "\u001b[0;31mTypeError\u001b[0m                                 Traceback (most recent call last)",
      "\u001b[0;32m/var/folders/4j/_7c3yk9x3gg_lsbvzrkk4zcm0000gn/T/ipykernel_28104/1411035437.py\u001b[0m in \u001b[0;36m<module>\u001b[0;34m\u001b[0m\n\u001b[0;32m----> 1\u001b[0;31m \u001b[0mprint\u001b[0m\u001b[0;34m(\u001b[0m\u001b[0;34m**\u001b[0m\u001b[0mkword\u001b[0m\u001b[0;34m)\u001b[0m\u001b[0;34m\u001b[0m\u001b[0;34m\u001b[0m\u001b[0m\n\u001b[0m",
      "\u001b[0;31mTypeError\u001b[0m: 'shopkeeper' is an invalid keyword argument for print()"
     ]
    }
   ],
   "source": [
    "print(**kword)"
   ]
  },
  {
   "cell_type": "code",
   "execution_count": 85,
   "id": "07699673",
   "metadata": {},
   "outputs": [
    {
     "ename": "SyntaxError",
     "evalue": "invalid syntax (4261029143.py, line 2)",
     "output_type": "error",
     "traceback": [
      "\u001b[0;36m  File \u001b[0;32m\"/var/folders/4j/_7c3yk9x3gg_lsbvzrkk4zcm0000gn/T/ipykernel_28104/4261029143.py\"\u001b[0;36m, line \u001b[0;32m2\u001b[0m\n\u001b[0;31m    for key, value in kwargs.items()\u001b[0m\n\u001b[0m                                    ^\u001b[0m\n\u001b[0;31mSyntaxError\u001b[0m\u001b[0;31m:\u001b[0m invalid syntax\n"
     ]
    }
   ],
   "source": [
    "def printer(**kwargs):\n",
    "    for key, value in kwargs.items()\n",
    "    print(f'key:{key} - {value}')"
   ]
  },
  {
   "cell_type": "code",
   "execution_count": null,
   "id": "744327a0",
   "metadata": {},
   "outputs": [],
   "source": []
  }
 ],
 "metadata": {
  "kernelspec": {
   "display_name": "Python 3 (ipykernel)",
   "language": "python",
   "name": "python3"
  },
  "language_info": {
   "codemirror_mode": {
    "name": "ipython",
    "version": 3
   },
   "file_extension": ".py",
   "mimetype": "text/x-python",
   "name": "python",
   "nbconvert_exporter": "python",
   "pygments_lexer": "ipython3",
   "version": "3.9.13"
  }
 },
 "nbformat": 4,
 "nbformat_minor": 5
}
