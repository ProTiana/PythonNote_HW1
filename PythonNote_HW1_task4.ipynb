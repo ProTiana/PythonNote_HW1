{
 "cells": [
  {
   "cell_type": "markdown",
   "id": "f844ad6b",
   "metadata": {},
   "source": [
    "# Задание 4\n",
    "\n",
    "Даны два списка:\n",
    "    - Дата покупки\n",
    "    - Суммы покупок по датам\n",
    "    \n",
    "### 4.1 Найдите, какая выручка у компании в ноябре\n",
    "\n",
    "*Используйте list comprehensions*\n"
   ]
  },
  {
   "cell_type": "code",
   "execution_count": 1,
   "id": "7a742ac1",
   "metadata": {},
   "outputs": [],
   "source": [
    "dates=['2021-09-14', '2021-12-15', '2021-09-08', '2021-12-05', '2021-10-09', '2021-09-30', '2021-12-22', '2021-11-29', '2021-12-24', '2021-11-26', '2021-10-27', '2021-12-18', '2021-11-09', '2021-11-23', '2021-09-27', '2021-10-02', '2021-12-27', '2021-09-20', '2021-12-13', '2021-11-01', '2021-11-09', '2021-12-06', '2021-12-08', '2021-10-09', '2021-10-31', '2021-09-30', '2021-11-09', '2021-12-13', '2021-10-26', '2021-12-09']\n",
    "costs=[1270, 8413, 9028, 3703, 5739, 4095, 295, 4944, 5723, 3701, 4471, 651, 7037, 4274, 6275, 4988, 6930, 2971, 6592, 2004, 2822, 519, 3406, 2732, 5015, 2008, 316, 6333, 5700, 2887]"
   ]
  },
  {
   "cell_type": "code",
   "execution_count": 2,
   "id": "b227d40a",
   "metadata": {},
   "outputs": [
    {
     "data": {
      "text/plain": [
       "'Общая выручка компании в ноябре = 25098'"
      ]
     },
     "execution_count": 2,
     "metadata": {},
     "output_type": "execute_result"
    }
   ],
   "source": [
    "result = sum([costs[i] for i in range(len(dates)) if dates[i].split('-')[1]=='11'])\n",
    "f'Общая выручка компании в ноябре = {result}'"
   ]
  },
  {
   "cell_type": "markdown",
   "id": "d5bab8ad",
   "metadata": {},
   "source": [
    "### 4.2 Найдите выручку компании в зависимости от месяца\n",
    "\n",
    "*Для этого напишите функцию, которая на вход принимает список с датами и список с выручкой, а на выходе словарь, где ключи - это месяцы, а значения - это выручка.\n",
    "Используйте аннотирование типов.*"
   ]
  },
  {
   "cell_type": "code",
   "execution_count": 3,
   "id": "c27c26d4",
   "metadata": {},
   "outputs": [],
   "source": [
    "def costs_in_month(dates=list, costs=list) -> dict:\n",
    "    costs_in_month={}\n",
    "    for i in range(len(dates)):\n",
    "        month=dates[i].split('-')[1]\n",
    "        if month in costs_in_month:\n",
    "            costs_in_month[month]+=costs[i]\n",
    "        else:\n",
    "            costs_in_month[month]=costs[i]\n",
    "    return costs_in_month"
   ]
  },
  {
   "cell_type": "code",
   "execution_count": 4,
   "id": "861981dc",
   "metadata": {},
   "outputs": [
    {
     "data": {
      "text/plain": [
       "{'09': 25647, '12': 45452, '10': 28645, '11': 25098}"
      ]
     },
     "execution_count": 4,
     "metadata": {},
     "output_type": "execute_result"
    }
   ],
   "source": [
    "costs_in_month(dates, costs)"
   ]
  }
 ],
 "metadata": {
  "kernelspec": {
   "display_name": "Python 3 (ipykernel)",
   "language": "python",
   "name": "python3"
  },
  "language_info": {
   "codemirror_mode": {
    "name": "ipython",
    "version": 3
   },
   "file_extension": ".py",
   "mimetype": "text/x-python",
   "name": "python",
   "nbconvert_exporter": "python",
   "pygments_lexer": "ipython3",
   "version": "3.9.13"
  }
 },
 "nbformat": 4,
 "nbformat_minor": 5
}
