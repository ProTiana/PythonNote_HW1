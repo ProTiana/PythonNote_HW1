{
 "cells": [
  {
   "cell_type": "markdown",
   "id": "60bb5157",
   "metadata": {},
   "source": [
    "# Задание2\n",
    "## 2.1\n",
    "*На складе лежат разные фрукты в разном количестве.Нужно написать функцию, которая на вход принимает любое*\n",
    "*количество названий фруктов и их количество,а возвращает общее количество фруктов на складе,*\n",
    "\n"
   ]
  },
  {
   "cell_type": "code",
   "execution_count": 1,
   "id": "b2554b17",
   "metadata": {},
   "outputs": [
    {
     "data": {
      "text/plain": [
       "{'bananas': 20, 'apples': 30, 'pears': 10}"
      ]
     },
     "execution_count": 1,
     "metadata": {},
     "output_type": "execute_result"
    }
   ],
   "source": [
    "fruits1={'bananas':20, 'apples':30, 'pears': 10}\n",
    "fruits1"
   ]
  },
  {
   "cell_type": "code",
   "execution_count": 2,
   "id": "209ef490",
   "metadata": {},
   "outputs": [],
   "source": [
    "def total_fruits(dict_):\n",
    "    total=0\n",
    "    for items in dict_.values():\n",
    "        total +=items\n",
    "    return total"
   ]
  },
  {
   "cell_type": "code",
   "execution_count": 3,
   "id": "4db9792f",
   "metadata": {},
   "outputs": [
    {
     "data": {
      "text/plain": [
       "60"
      ]
     },
     "execution_count": 3,
     "metadata": {},
     "output_type": "execute_result"
    }
   ],
   "source": [
    "total_fruits(fruits1)"
   ]
  },
  {
   "cell_type": "code",
   "execution_count": 4,
   "id": "c555a4e9",
   "metadata": {},
   "outputs": [],
   "source": [
    "def total_sum(x):\n",
    "    print(type(x))\n",
    "    print()\n",
    "    total=sum(x.values())\n",
    "    return total"
   ]
  },
  {
   "cell_type": "code",
   "execution_count": 5,
   "id": "c052bb63",
   "metadata": {},
   "outputs": [
    {
     "name": "stdout",
     "output_type": "stream",
     "text": [
      "<class 'dict'>\n",
      "\n"
     ]
    },
    {
     "data": {
      "text/plain": [
       "60"
      ]
     },
     "execution_count": 5,
     "metadata": {},
     "output_type": "execute_result"
    }
   ],
   "source": [
    "total_sum(fruits1)"
   ]
  },
  {
   "cell_type": "code",
   "execution_count": 6,
   "id": "2f504f6f",
   "metadata": {},
   "outputs": [
    {
     "name": "stdout",
     "output_type": "stream",
     "text": [
      "60\n"
     ]
    }
   ],
   "source": [
    "if __name__ == '__main__':\n",
    "    total=sum(fruits1.values())\n",
    "    print(total)"
   ]
  },
  {
   "cell_type": "markdown",
   "id": "05b4309f",
   "metadata": {},
   "source": [
    "## 2.2\n",
    "\n",
    "*На складе лежат разные фрукты в разном количестве.*\n",
    "*Нужно написать функцию, которая на вход принимает любое количество названий фруктов и их количество,*\n",
    "*а возвращает общее количество фруктов на складе, при помощи использования kwargs*"
   ]
  },
  {
   "cell_type": "code",
   "execution_count": 7,
   "id": "55a1046d",
   "metadata": {},
   "outputs": [],
   "source": [
    "def sum_fruits2(**kwargs):\n",
    "    print(type(kwargs))\n",
    "    print()\n",
    "    total=0\n",
    "    for k, v in kwargs.items():\n",
    "        total+=v\n",
    "    return total "
   ]
  },
  {
   "cell_type": "code",
   "execution_count": 8,
   "id": "ed49c914",
   "metadata": {},
   "outputs": [
    {
     "name": "stdout",
     "output_type": "stream",
     "text": [
      "<class 'dict'>\n",
      "\n"
     ]
    },
    {
     "data": {
      "text/plain": [
       "60"
      ]
     },
     "execution_count": 8,
     "metadata": {},
     "output_type": "execute_result"
    }
   ],
   "source": [
    "sum_fruits2(**fruits1)"
   ]
  },
  {
   "cell_type": "code",
   "execution_count": null,
   "id": "f44d5d26",
   "metadata": {},
   "outputs": [],
   "source": []
  }
 ],
 "metadata": {
  "kernelspec": {
   "display_name": "Python 3 (ipykernel)",
   "language": "python",
   "name": "python3"
  },
  "language_info": {
   "codemirror_mode": {
    "name": "ipython",
    "version": 3
   },
   "file_extension": ".py",
   "mimetype": "text/x-python",
   "name": "python",
   "nbconvert_exporter": "python",
   "pygments_lexer": "ipython3",
   "version": "3.9.13"
  }
 },
 "nbformat": 4,
 "nbformat_minor": 5
}
