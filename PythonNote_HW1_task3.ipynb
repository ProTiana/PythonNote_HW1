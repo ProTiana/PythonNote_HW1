{
 "cells": [
  {
   "cell_type": "markdown",
   "id": "63bf93e3",
   "metadata": {},
   "source": [
    "# Задание 3\n",
    "\n",
    "*Дан список с затратами на рекламу. Но в данных есть ошибки, некоторые затраты имеют отрицательную величину. Удалите такие значения из списка и посчитайте суммарные затраты\n",
    "[100, 125, -90, 345, 655, -1, 0, 200]\n",
    "Используйте list comprehensions*"
   ]
  },
  {
   "cell_type": "code",
   "execution_count": 12,
   "id": "ca49e733",
   "metadata": {},
   "outputs": [
    {
     "name": "stdout",
     "output_type": "stream",
     "text": [
      "8\n"
     ]
    },
    {
     "data": {
      "text/plain": [
       "1425"
      ]
     },
     "execution_count": 12,
     "metadata": {},
     "output_type": "execute_result"
    }
   ],
   "source": [
    "li= [100, 125, -90, 345, 655, -1, 0, 200]\n",
    "print(len(li))\n",
    "# li_new=[i if i>0 else 0 for i in li]\n",
    "li_new = sum([i for i in li if i>0])\n",
    "li_new\n"
   ]
  },
  {
   "cell_type": "code",
   "execution_count": 11,
   "id": "43d6e289",
   "metadata": {},
   "outputs": [
    {
     "data": {
      "text/plain": [
       "1425"
      ]
     },
     "execution_count": 11,
     "metadata": {},
     "output_type": "execute_result"
    }
   ],
   "source": [
    "sum(li_new)"
   ]
  },
  {
   "cell_type": "code",
   "execution_count": null,
   "id": "de15487f",
   "metadata": {},
   "outputs": [],
   "source": []
  }
 ],
 "metadata": {
  "kernelspec": {
   "display_name": "Python 3 (ipykernel)",
   "language": "python",
   "name": "python3"
  },
  "language_info": {
   "codemirror_mode": {
    "name": "ipython",
    "version": 3
   },
   "file_extension": ".py",
   "mimetype": "text/x-python",
   "name": "python",
   "nbconvert_exporter": "python",
   "pygments_lexer": "ipython3",
   "version": "3.9.13"
  }
 },
 "nbformat": 4,
 "nbformat_minor": 5
}
